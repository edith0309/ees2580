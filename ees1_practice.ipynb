{
  "cells": [
    {
      "cell_type": "markdown",
      "metadata": {
        "id": "oHKKTWY6euiY"
      },
      "source": [
        "# Python Lesson 1 Practice assignment\n",
        "\n",
        "## General instructions\n",
        "\n",
        "In each of the scripts that you write, for each variable in the script use a meaningful name that follows the [PEP 8 style](https://www.python.org/dev/peps/pep-0008/) (“snake_case”).\n"
      ]
    },
    {
      "cell_type": "markdown",
      "metadata": {
        "id": "ajyUWgdudns3"
      },
      "source": [
        "1. Assign a string to a variable, then print the length of the string."
      ]
    },
    {
      "cell_type": "code",
      "execution_count": null,
      "metadata": {
        "id": "OSkQkUb7cp9V"
      },
      "outputs": [
        {
          "name": "stdout",
          "output_type": "stream",
          "text": [
            "8\n"
          ]
        }
      ],
      "source": [
        "my_string = \"variable\"\n",
        "\n",
        "print(len(my_string))\n"
      ]
    },
    {
      "cell_type": "markdown",
      "metadata": {
        "id": "yDLcMe82d_tQ"
      },
      "source": [
        "2. Task: create code that allows the user to input two numbers, then prints the difference between them. Don’t forget that the `input()` function produces a string that must be turned into a number before subtracting. Write this script two ways: In the first cell, the input strings should be assigned to variables, then converted into numbers using separate statements. In the second cell, the number conversion should be done directly on the output of the `input()` function by nesting the two functions."
      ]
    },
    {
      "cell_type": "code",
      "execution_count": 2,
      "metadata": {
        "id": "cOIo_RUber60"
      },
      "outputs": [
        {
          "ename": "ValueError",
          "evalue": "invalid literal for int() with base 10: 'q'",
          "output_type": "error",
          "traceback": [
            "\u001b[0;31m---------------------------------------------------------------------------\u001b[0m",
            "\u001b[0;31mValueError\u001b[0m                                Traceback (most recent call last)",
            "Cell \u001b[0;32mIn[2], line 6\u001b[0m\n\u001b[1;32m      3\u001b[0m input_num2 \u001b[38;5;241m=\u001b[39m \u001b[38;5;28minput\u001b[39m(\u001b[38;5;124m\"\u001b[39m\u001b[38;5;124mPlease enter the second number: \u001b[39m\u001b[38;5;124m\"\u001b[39m)\n\u001b[1;32m      5\u001b[0m \u001b[38;5;66;03m# Convert the input strings to integers\u001b[39;00m\n\u001b[0;32m----> 6\u001b[0m num1 \u001b[38;5;241m=\u001b[39m \u001b[38;5;28mint\u001b[39m(input_num1)\n\u001b[1;32m      7\u001b[0m num2 \u001b[38;5;241m=\u001b[39m \u001b[38;5;28mint\u001b[39m(input_num2)\n\u001b[1;32m      9\u001b[0m \u001b[38;5;66;03m# Calculate the difference\u001b[39;00m\n",
            "\u001b[0;31mValueError\u001b[0m: invalid literal for int() with base 10: 'q'"
          ]
        }
      ],
      "source": [
        "input_num1 = input(\"Please enter the first number: \")\n",
        "input_num2 = input(\"Please enter the second number: \")\n",
        "\n",
        "num1 = int(input_num1)\n",
        "num2 = int(input_num2)\n",
        "\n",
        "difference = num1 - num2\n",
        "\n",
        "print(\"The difference between the two numbers is: \", difference)\n"
      ]
    },
    {
      "cell_type": "code",
      "execution_count": null,
      "metadata": {
        "id": "63iUovqDgPUL"
      },
      "outputs": [
        {
          "ename": "",
          "evalue": "",
          "output_type": "error",
          "traceback": [
            "\u001b[1;31mRunning cells with '/usr/local/bin/python3' requires the ipykernel package.\n",
            "\u001b[1;31mRun the following command to install 'ipykernel' into the Python environment. \n",
            "\u001b[1;31mCommand: '/usr/local/bin/python3 -m pip install ipykernel -U --user --force-reinstall'"
          ]
        }
      ],
      "source": [
        "num1 = int(input(\"Please enter the first number: \"))\n",
        "num2 = int(input(\"Please enter the second number: \"))\n",
        "\n",
        "difference = num1 - num2\n",
        "\n",
        "print(\"The difference between the two numbers is: \", difference)\n"
      ]
    },
    {
      "cell_type": "markdown",
      "metadata": {
        "id": "M-a1NodJes9l"
      },
      "source": [
        "3. Create a code cell where the user enters a string. The script concatenates ‘Simon says: ‘ to the front of their string and prints the result for the user. Use a prompt that would be appropriate for a kid's game as an argument for the `input()` function."
      ]
    },
    {
      "cell_type": "code",
      "execution_count": null,
      "metadata": {
        "id": "NEd1btJQlD5C"
      },
      "outputs": [
        {
          "ename": "",
          "evalue": "",
          "output_type": "error",
          "traceback": [
            "\u001b[1;31mRunning cells with '/usr/local/bin/python3' requires the ipykernel package.\n",
            "\u001b[1;31mRun the following command to install 'ipykernel' into the Python environment. \n",
            "\u001b[1;31mCommand: '/usr/local/bin/python3 -m pip install ipykernel -U --user --force-reinstall'"
          ]
        }
      ],
      "source": [
        "user_string = input(\"Enter a command for Simon: \")\n",
        "\n",
        "result = 'Simon says: ' + user_string\n",
        "\n",
        "print(result)\n"
      ]
    },
    {
      "cell_type": "markdown",
      "metadata": {
        "id": "wvtrWES-lF72"
      },
      "source": [
        "4. Explain what is wrong with the following code. If necessary, use the variable explorer to help you figure it out."
      ]
    },
    {
      "cell_type": "code",
      "execution_count": 7,
      "metadata": {
        "id": "HPDE-sx4mCaU"
      },
      "outputs": [
        {
          "name": "stdout",
          "output_type": "stream",
          "text": [
            "Your number doubled is: 4\n"
          ]
        }
      ],
      "source": [
        "user_number = (input('Give me a number: '))\n",
        "doubled_number = user_number * 2 \n",
        "print('Your number doubled is:', doubled_number)"
      ]
    },
    {
      "cell_type": "code",
      "execution_count": null,
      "metadata": {},
      "outputs": [],
      "source": []
    },
    {
      "cell_type": "markdown",
      "metadata": {
        "id": "MqqSnqxMmquO"
      },
      "source": [
        "Answer here:The function repeats the string instead of the integer\n",
        "\n",
        "Fix the code in the following cell"
      ]
    },
    {
      "cell_type": "code",
      "execution_count": null,
      "metadata": {
        "id": "W7vWrCCrm0wo"
      },
      "outputs": [],
      "source": [
        "user_number = int(input('Give me a number: '))\n",
        "doubled_number = user_number * 2 \n",
        "print('Your number doubled is:', doubled_number)"
      ]
    },
    {
      "cell_type": "markdown",
      "metadata": {
        "id": "hYchRXrwm9x2"
      },
      "source": [
        "5. Create a number guessing game. Set the value of the secret number using an assignment statement. Then let the user enter a number. Print two feedback statements. The first one should tell the user whether the guess was correct (True or False). The second print statement should tell the user whether the guess was too high (True or False). The user will need to re-run the cell with each guess."
      ]
    },
    {
      "cell_type": "code",
      "execution_count": 6,
      "metadata": {
        "id": "or1R00Z0nAtO"
      },
      "outputs": [
        {
          "name": "stdout",
          "output_type": "stream",
          "text": [
            "Your guess is correct:  False\n",
            "Your guess is too high:  False\n"
          ]
        }
      ],
      "source": [
        "secret_number = 7\n",
        "\n",
        "guess = int(input(\"Guess the secret number: \"))\n",
        "\n",
        "is_correct = guess == secret_number\n",
        "print(\"Your guess is correct: \", is_correct)\n",
        "\n",
        "is_too_high = guess > secret_number\n",
        "print(\"Your guess is too high: \", is_too_high)\n"
      ]
    }
  ],
  "metadata": {
    "colab": {
      "provenance": []
    },
    "kernelspec": {
      "display_name": "Python 3",
      "name": "python3"
    },
    "language_info": {
      "codemirror_mode": {
        "name": "ipython",
        "version": 3
      },
      "file_extension": ".py",
      "mimetype": "text/x-python",
      "name": "python",
      "nbconvert_exporter": "python",
      "pygments_lexer": "ipython3",
      "version": "3.11.5"
    }
  },
  "nbformat": 4,
  "nbformat_minor": 0
}
